{
 "cells": [
  {
   "cell_type": "code",
   "execution_count": 1,
   "id": "2db5de98",
   "metadata": {},
   "outputs": [
    {
     "name": "stdout",
     "output_type": "stream",
     "text": [
      "env: HDF5_PLUGIN_PATH=\"/share/pkg.8/python3/3.10.12/install/lib/python3.10/site-packages/h5py\"\n"
     ]
    }
   ],
   "source": [
    "import h5py\n",
    "import numpy\n",
    "# Import below to fix OS Error!\n",
    "import tables\n",
    "import hdf5plugin\n",
    "\n",
    "%env HDF5_PLUGIN_PATH = \"/share/pkg.8/python3/3.10.12/install/lib/python3.10/site-packages/h5py\"\n",
    "\n",
    "filename = \"/restricted/projectnb/tuberculosis/work/aubrey/Alland_TB/TB_pangenome_scripts/FASTA_product/pangenome.h5\"\n",
    "\n",
    "f = h5py.File(filename, \"r\")"
   ]
  },
  {
   "cell_type": "code",
   "execution_count": 2,
   "id": "d92caa47",
   "metadata": {},
   "outputs": [],
   "source": [
    "def allkeys(obj):\n",
    "    \"Recursively find all keys in an h5py.Group.\"\n",
    "    keys = (obj.name,)\n",
    "    if isinstance(obj, h5py.Group):\n",
    "        for key, value in obj.items():\n",
    "            if isinstance(value, h5py.Group):\n",
    "                keys = keys + allkeys(value)\n",
    "            else:\n",
    "                keys = keys + (value.name,)\n",
    "    return keys"
   ]
  },
  {
   "cell_type": "code",
   "execution_count": 3,
   "id": "64f0a17d",
   "metadata": {},
   "outputs": [
    {
     "data": {
      "text/plain": [
       "('/',\n",
       " '/RGP',\n",
       " '/annotations',\n",
       " '/annotations/genes',\n",
       " '/edges',\n",
       " '/geneFamilies',\n",
       " '/geneFamiliesInfo',\n",
       " '/geneSequences',\n",
       " '/info',\n",
       " '/spots',\n",
       " '/status')"
      ]
     },
     "execution_count": 3,
     "metadata": {},
     "output_type": "execute_result"
    }
   ],
   "source": [
    "allkeys(f)"
   ]
  },
  {
   "cell_type": "code",
   "execution_count": 4,
   "id": "4596e4de",
   "metadata": {},
   "outputs": [
    {
     "name": "stdout",
     "output_type": "stream",
     "text": [
      "RGP is a Dataset\n",
      "shape: (4414,); dtype: [('RGP', 'S56'), ('gene', 'S23')]\n",
      "annotations is a Group\n",
      "edges is a Dataset\n",
      "shape: (211819,); dtype: [('geneSource', 'S23'), ('geneTarget', 'S23')]\n",
      "geneFamilies is a Dataset\n",
      "shape: (213331,); dtype: [('gene', 'S23'), ('geneFam', 'S23')]\n",
      "geneFamiliesInfo is a Dataset\n",
      "shape: (4993,); dtype: [('name', 'S23'), ('partition', 'S1'), ('protein', 'S4153')]\n",
      "geneSequences is a Dataset\n",
      "shape: (213331,); dtype: [('dna', 'S12459'), ('gene', 'S23'), ('type', 'S3')]\n",
      "info is a Group\n",
      "spots is a Dataset\n",
      "shape: (468,); dtype: [('RGP', 'S56'), ('spot', '<u4')]\n",
      "status is a Group\n"
     ]
    }
   ],
   "source": [
    "with h5py.File(filename, \"r\") as a_file_train:\n",
    "    for ds in a_file_train.keys():\n",
    "        if isinstance(a_file_train[ds], h5py.Group): \n",
    "            print(f\"{ds} is a Group\")        \n",
    "        elif isinstance(a_file_train[ds], h5py.Dataset): \n",
    "            print(f\"{ds} is a Dataset\")   \n",
    "            print(f\"shape: {a_file_train[ds].shape}; dtype: {a_file_train[ds].dtype}\")\n",
    "        else:\n",
    "            print(f\"{ds} is not a Group or Dataset\")      "
   ]
  },
  {
   "cell_type": "code",
   "execution_count": 14,
   "id": "3ff373f7",
   "metadata": {},
   "outputs": [],
   "source": [
    "get_genes=f[\"annotations\"][\"genes\"][:]\n",
    "get_seqs=f[\"geneSequences\"][:]\n",
    "get_RGP=f[\"RGP\"][:]"
   ]
  },
  {
   "cell_type": "code",
   "execution_count": 8,
   "id": "9ffcc0f7",
   "metadata": {},
   "outputs": [
    {
     "name": "stdout",
     "output_type": "stream",
     "text": [
      "[((0, b'cluster_001_consensus_pilon_pilon_pilon'), (b'fig|1773.30351.peg.1', 11, 0, b'', b'Chromosomal replication initiator protein DnaA', 0, b'',       1,    1524, b'+', b'CDS'), b'BCCM_082')\n",
      " ((0, b'cluster_001_consensus_pilon_pilon_pilon'), (b'fig|1773.30351.peg.2', 11, 0, b'', b'DNA polymerase III beta subunit (EC 2.7.7.7)', 1, b'',    2052,    3260, b'+', b'CDS'), b'BCCM_082')\n",
      " ((0, b'cluster_001_consensus_pilon_pilon_pilon'), (b'fig|1773.30351.peg.3', 11, 0, b'', b'DNA recombination and repair protein RecF', 2, b'',    3280,    4437, b'+', b'CDS'), b'BCCM_082')\n",
      " ...\n",
      " ((0, b'cluster_001_consensus_pilon_pilon_pilon'), (b'TMC102_CDS_0015', 11, 0, b'', b'tRNA-Gln-TTG', 0, b'', 1138080, 1138151, b'-', b'tRNA'), b'TMC102')\n",
      " ((0, b'cluster_001_consensus_pilon_pilon_pilon'), (b'TMC102_CDS_0010', 11, 0, b'', b'tRNA-Glu-TTC', 0, b'',  924002,  924078, b'+', b'tRNA'), b'TMC102')\n",
      " ((0, b'cluster_001_consensus_pilon_pilon_pilon'), (b'TMC102_CDS_0011', 11, 0, b'', b'tRNA-Asp-GTC', 0, b'',  924113,  924189, b'+', b'tRNA'), b'TMC102')]\n"
     ]
    }
   ],
   "source": [
    "print(get_genes)"
   ]
  },
  {
   "cell_type": "code",
   "execution_count": 15,
   "id": "fa03970e",
   "metadata": {},
   "outputs": [],
   "source": [
    "get_genes.tofile('/restricted/projectnb/tuberculosis/work/aubrey/Alland_TB/TB_pangenome_scripts/FASTA_product/h5genes.csv', sep = ',')\n",
    "get_seqs.tofile('/restricted/projectnb/tuberculosis/work/aubrey/Alland_TB/TB_pangenome_scripts/FASTA_product/h5geneseqs.csv', sep = ',')\n",
    "get_RGP.tofile('/restricted/projectnb/tuberculosis/work/aubrey/Alland_TB/TB_pangenome_scripts/FASTA_product/h5RGP.csv', sep = ',')"
   ]
  }
 ],
 "metadata": {
  "kernelspec": {
   "display_name": "Python 3 (ipykernel)",
   "language": "python",
   "name": "python3"
  },
  "language_info": {
   "codemirror_mode": {
    "name": "ipython",
    "version": 3
   },
   "file_extension": ".py",
   "mimetype": "text/x-python",
   "name": "python",
   "nbconvert_exporter": "python",
   "pygments_lexer": "ipython3",
   "version": "3.10.12"
  }
 },
 "nbformat": 4,
 "nbformat_minor": 5
}
